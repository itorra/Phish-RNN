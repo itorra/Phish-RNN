{
 "cells": [
  {
   "cell_type": "markdown",
   "metadata": {
    "slideshow": {
     "slide_type": "-"
    }
   },
   "source": [
    "# Phish Show Setlist Predictor\n",
    "## Machine Learning Final Project\n",
    "### Ido Algom & Natalie Gilboa September 2016\n",
    "\n",
    "### Introduction\n",
    "\n",
    "Phish is an American rock and roll band noted for their musical improvisation, extended jams, blending of musical genres, and dedicated fan base. The Band Formed at the University of Vermont in 1983 (with the current line-up solidifying in 1985).\n",
    "\n",
    "The Mockingbird Foundation is a charitable organization founded by fans of the jam band Phish in 1996 to support music education for children. The website Phish.net is a fan website that formally adopted by The Foundation as a project in 2005. The site had begun in 1991 and served Phish fans for nearly two decades as static HTML pages. It was re-launched as an integrated database - of setlists, song histories, reviews, and more - in fall 2009.\n",
    "\n",
    "The website contains tables about each song that ever played in show. Every single show the band has been playing during the years has a unique setlist. This information about each song and each show is recorded at the website database for fans. With the website API I managed to get all the songs played at every single show the band has ever played. \n",
    "\n",
    "We created a lanuage model which takes a show as a sentence each song is a word in the model. We also kept on the show construction. Most of Phish shows constructed with two (sometimes more) sets of music and an encore. I used these to represent the whole show structure. \n",
    "\n",
    "Example of a real show sentence (Ido's first Phish show @ Denver, CO) :\n",
    "> S1,First Tube,Uncle Pen,Carini,Kill Devil Falls,You Enjoy Myself,Ocelot,Undermind,S2,Runaway Jim,Farmhouse,Alaska,Chalk Dust Torture,Emotional Rescue,Fuck Your Face,ENCORE,Grind,Meatstick,END\n",
    "\n",
    "> S1 - Set 1, S2 - Set 2, ENCORE - Encore\n",
    "\n",
    "The code we used to retrive the data from phish.net API is shown below at chapter I.\n",
    "\n",
    "At this opportunity we wanna thanks phish.net admins who gave me the API key so I can do this very special project."
   ]
  },
  {
   "cell_type": "markdown",
   "metadata": {},
   "source": [
    "### Chapter I - Data retriving\n",
    "\n",
    "Chapter Notes:\n",
    "\n",
    "- API key has removed due to privacy reasons on GITHUB\n",
    "- We used commas as seperator between songs so in order to keep things orgenized we hard coded every comma in a song title to single space char. E.g. the song \"My Freind, My Freind\" -> \"My Freind My Friend\"\n",
    "- We deleted every space char not inside song titles. \n",
    "- mainfunction is in comment as data set file is alreday located"
   ]
  },
  {
   "cell_type": "code",
   "execution_count": 1,
   "metadata": {
    "collapsed": false
   },
   "outputs": [],
   "source": [
    "import json\n",
    "from urllib import urlopen\n",
    "import re\n",
    "\n",
    "yemkey = 'xxxx'\n",
    "\n",
    "\n",
    "def getAllShows(year_from,year_to):\n",
    "    l = list()\n",
    "    for year in range(year_from, year_to+1):\n",
    "        url = getJsonUrlAllShowsOfYear(year)\n",
    "        file = getJsonbyUrl(url)\n",
    "        if type(file) == list:\n",
    "            for show in file:\n",
    "                l.append(show['showid'])\n",
    "    return l\n",
    "\n",
    "\n",
    "def getJsonUrlAllShowsOfYear(year):\n",
    "    return \"https://api.phish.net/api.js?api=2.0&format=json&method=pnet.shows.query&year=\" + str(\n",
    "        year) + \"&apikey=\" + yemkey\n",
    "\n",
    "\n",
    "def getJsonbyUrl(url):\n",
    "    response = urlopen(url)\n",
    "    data = response.read().decode(\"utf-8\")\n",
    "    return json.loads(data)\n",
    "\n",
    "def getJsonUrlSetlist(showid):\n",
    "    return \"https://api.phish.net/api.js?showid=\" + showid + \"&api=2.0&format=json&method=pnet.shows.setlists.get&apikey=\" + yemkey\n",
    "\n",
    "def analyzeShow(show):\n",
    "    show = getJsonbyUrl(getJsonUrlSetlist(show))\n",
    "\n",
    "\n",
    "def fixSetlist(sl):\n",
    "    cleanr = re.compile('<.*?>')\n",
    "    sl = sl.replace(\"Come On Baby, Let's Go Downtown\",\"Come On Baby Let's Go Downtown\")\n",
    "    sl = sl.replace(\"My Friend, My Friend\",\"My Friend My Friend\")\n",
    "    sl = sl.replace(\"Ob-La-Di, Ob-La-Da\",\"Ob-La-Di Ob-La-Da\")\n",
    "    sl = sl.replace(\"Love Reign O'er Me\",\"Love Reign O'er Me\")\n",
    "    sl = sl.replace(\"Swing Low, Sweet Chariot\",\"Swing Low Sweet Chariot\")\n",
    "    sl = sl.replace(\"I'm Blue, I'm Lonesome\",\"I'm Blue I'm Lonesome\")\n",
    "    sl = sl.replace(\"Set 1:\", \"S1, \")\n",
    "    sl = sl.replace(\"Set 2:\", \", S2, \")\n",
    "    sl = sl.replace(\"Set 3:\", \", S3, \")\n",
    "    sl = sl.replace(\"Set 4:\", \", S4, \")\n",
    "    sl = sl.replace(\"Encore:\", \", ENCORE,\")\n",
    "    sl = sl.replace(\"Encore 2:\", \", ENCORE,\")\n",
    "    sl = re.sub(cleanr,'',sl)\n",
    "    sl = sl.replace(\" >\",\",\")\n",
    "    sl = sl.replace(\" ->\", \",\")\n",
    "    sl = sl.replace(\",  \", \",\")\n",
    "    sl = sl.replace(\", \", \",\")\n",
    "    notes = notesNum(sl)\n",
    "    if notes > 0:\n",
    "        sl = sl[0:sl.rfind('[1]')]\n",
    "        for i in range(1,notes+1):\n",
    "            s = '[' + str(i) + ']'\n",
    "            sl = sl.replace(s,\"\")\n",
    "    sl += \",END\"\n",
    "    return sl\n",
    "\n",
    "\n",
    "def notesNum(sl):\n",
    "    end = len(sl)\n",
    "    i = sl.rfind(']')\n",
    "    while i > 0:\n",
    "        if sl[i-1] > '0' and sl[i-1] <= '9':\n",
    "            return int(sl[i-1])\n",
    "        else:\n",
    "            end = i-1\n",
    "            i = sl.rfind(']',0,end)\n",
    "    return 0;\n",
    "\n",
    "def createDataSet(filename,year_from,year_to):\n",
    "    shows = getAllShows(year_from,year_to)\n",
    "    filename += '.yem'\n",
    "    target = open(filename,mode='w')\n",
    "    for show in shows:\n",
    "        dataurl = getJsonUrlSetlist(show)\n",
    "        data = getJsonbyUrl(dataurl)\n",
    "        setlist = data[0]['setlistdata']\n",
    "        print(data[0]['showdate'] + data[0]['showid'])\n",
    "        setlist = fixSetlist(setlist)\n",
    "        target.write(setlist)\n",
    "        target.write(\"\\n\")\n",
    "\n",
    "\n",
    "#createDataSet('data_new',1983,2015)"
   ]
  },
  {
   "cell_type": "markdown",
   "metadata": {
    "collapsed": true
   },
   "source": [
    "### Chapter II - The Network\n",
    "\n",
    "Our implementation is based on the [follwing](http://www.wildml.com/2015/09/recurrent-neural-networks-tutorial-part-2-implementing-a-language-model-rnn-with-python-numpy-and-theano/) article. We used the Theano model for this project as following:\n",
    "\n",
    "\n",
    "#### Imports and consts"
   ]
  },
  {
   "cell_type": "code",
   "execution_count": 2,
   "metadata": {
    "collapsed": true
   },
   "outputs": [],
   "source": [
    "%matplotlib inline\n",
    "\n",
    "import numpy as np\n",
    "import matplotlib.pyplot as plt\n",
    "import itertools\n",
    "import nltk\n",
    "import sys\n",
    "import os\n",
    "import theano\n",
    "from datetime import datetime\n",
    "from utils import *\n",
    "from rnn_theano import RNNTheano, gradient_check_theano\n",
    "import re, math\n",
    "from collections import Counter\n",
    "from sklearn.metrics.pairwise import cosine_similarity\n",
    "import numpy as np\n",
    "import matplotlib.pyplot as plt \n",
    "\n",
    "vocabulary_size = 2000\n",
    "unknown_token = \"UNKNOWN_TOKEN\"\n",
    "sentence_start_token = \"S1\"\n",
    "sentence_end_token = \"END\"\n",
    "\n",
    "_HIDDEN_DIM = int(os.environ.get('HIDDEN_DIM', '80'))\n",
    "_LEARNING_RATE = float(os.environ.get('LEARNING_RATE', '0.005'))\n",
    "_NEPOCH = int(os.environ.get('NEPOCH', '300'))\n",
    "_MODEL_FILE = os.environ.get('MODEL_FILE')"
   ]
  },
  {
   "cell_type": "markdown",
   "metadata": {},
   "source": [
    "#### Functions"
   ]
  },
  {
   "cell_type": "code",
   "execution_count": 3,
   "metadata": {
    "collapsed": true
   },
   "outputs": [],
   "source": [
    "def train_with_sgd(model, X_train, y_train, learning_rate=0.005, nepoch=1, evaluate_loss_after=5):\n",
    "    # We keep track of the losses so we can plot them later\n",
    "    losses = []\n",
    "    num_examples_seen = 0\n",
    "    for epoch in range(nepoch):\n",
    "        # Optionally evaluate the loss\n",
    "        if (epoch % evaluate_loss_after == 0):\n",
    "            loss = model.calculate_loss(X_train, y_train)\n",
    "            losses.append((num_examples_seen, loss))\n",
    "            time = datetime.now().strftime('%Y-%m-%d-%H-%M-%S')\n",
    "            print \"%s: Loss after num_examples_seen=%d epoch=%d: %f\" % (time, num_examples_seen, epoch, loss)\n",
    "            # Adjust the learning rate if loss increases\n",
    "            if (len(losses) > 1 and losses[-1][1] > losses[-2][1]):\n",
    "                learning_rate = learning_rate * 0.5\n",
    "                print \"Setting learning rate to %f\" % learning_rate\n",
    "            sys.stdout.flush()\n",
    "            # ADDED! Saving model oarameters\n",
    "            save_model_parameters_theano(\"./data/rnn-theano-%d-%d-%s.npz\" % (model.hidden_dim, model.word_dim, time), model)\n",
    "        # For each training example...\n",
    "        for i in range(len(y_train)):\n",
    "            # One SGD step\n",
    "            model.sgd_step(X_train[i], y_train[i], learning_rate)\n",
    "            num_examples_seen += 1\n",
    "\n",
    "def generate_setlist(model):\n",
    "    # We start the sentence with the start token\n",
    "    setlist = [song_to_index[sentence_start_token]]\n",
    "    # Repeat until we get an end token\n",
    "    while not setlist[-1] == song_to_index[sentence_end_token]:\n",
    "        next_word_probs = model.forward_propagation(setlist)\n",
    "        sampled_song = song_to_index[unknown_token]\n",
    "        # We don't want to sample unknown words\n",
    "        while sampled_song == song_to_index[unknown_token]:\n",
    "            samples = np.random.multinomial(1, next_word_probs[-1])\n",
    "            sampled_song = np.argmax(samples)\n",
    "        setlist.append(sampled_song)\n",
    "    setlist_str = [index_to_word[x] for x in setlist]\n",
    "    return setlist_str\n",
    "\n",
    "def get_cosine(vec1, vec2):\n",
    "    intersection = set(vec1.keys()) & set(vec2.keys())\n",
    "    numerator = sum([vec1[x] * vec2[x] for x in intersection])\n",
    "\n",
    "    sum1 = sum([vec1[x] ** 2 for x in vec1.keys()])\n",
    "    sum2 = sum([vec2[x] ** 2 for x in vec2.keys()])\n",
    "    denominator = math.sqrt(sum1) * math.sqrt(sum2)\n",
    "\n",
    "    if not denominator:\n",
    "        return 0.0\n",
    "    else:\n",
    "        return float(numerator) / denominator\n",
    "\n",
    "def text_to_vector(text):\n",
    "    words = WORD.findall(text)\n",
    "    return Counter(words)"
   ]
  },
  {
   "cell_type": "markdown",
   "metadata": {},
   "source": [
    "#### Main Script"
   ]
  },
  {
   "cell_type": "code",
   "execution_count": 4,
   "metadata": {
    "collapsed": false
   },
   "outputs": [
    {
     "name": "stdout",
     "output_type": "stream",
     "text": [
      "Parsed 1758 shows.\n"
     ]
    }
   ],
   "source": [
    "#open the file and split it to sentences\n",
    "with open(\"data_new.yem\", 'rb') as f:\n",
    "    shows_data = [line.strip() for line in f]\n",
    "print(\"Parsed %d shows.\" % (len(shows_data)))"
   ]
  },
  {
   "cell_type": "code",
   "execution_count": 5,
   "metadata": {
    "collapsed": false
   },
   "outputs": [
    {
     "name": "stdout",
     "output_type": "stream",
     "text": [
      "Found 867 unique songs.\n"
     ]
    }
   ],
   "source": [
    "# Tokenize the sentences into words\n",
    "shows_tokenized = [nltk.tokenize.regexp_tokenize(sent, pattern=\"[\\number|\\w|'|?|!|.| |/|:|-|(|)]+\", gaps=False) for sent in shows_data]\n",
    "\n",
    "# Count the word frequencies\n",
    "song_freq = nltk.FreqDist(itertools.chain(*shows_tokenized))\n",
    "print (\"Found %d unique songs.\" % len(song_freq.items()))\n",
    "\n",
    "# Prevent blank words in case of enclosed set of words\n",
    "if vocabulary_size > len(song_freq.items()):\n",
    "    vocabulary_size = len(song_freq.items())"
   ]
  },
  {
   "cell_type": "markdown",
   "metadata": {},
   "source": [
    "Notes:\n",
    "- The parsing is regular expression reading all charecters that may appear in a song title.\n",
    "- Due to the model changes to predict discrete group of songs, randomize has to stay at the limitation of acctual songs the band has in it's bank."
   ]
  },
  {
   "cell_type": "code",
   "execution_count": 6,
   "metadata": {
    "collapsed": false
   },
   "outputs": [
    {
     "name": "stdout",
     "output_type": "stream",
     "text": [
      "Using vocabulary size 867.\n",
      "\n",
      "Example show: 'S1,Long Cool Woman in a Black Dress,Proud Mary,In the Midnight Hour,Squeeze Box,Roadhouse Blues,Happy Birthday to You,S2,Scarlet Begonias,Fire on the Mountain,END'\n",
      "\n",
      "Example show after Pre-processing: '['S1', 'Long Cool Woman in a Black Dress', 'Proud Mary', 'In the Midnight Hour', 'Squeeze Box', 'Roadhouse Blues', 'Happy Birthday to You', 'S2', 'Scarlet Begonias', 'Fire on the Mountain', 'END']'\n"
     ]
    }
   ],
   "source": [
    "#Get the most common words and build index_to_word and song_to_index vectors\n",
    "vocab = song_freq.most_common(vocabulary_size)\n",
    "index_to_word = [x[0] for x in vocab]\n",
    "index_to_word.append(unknown_token)\n",
    "song_to_index = dict([(w, i) for i, w in enumerate(index_to_word)])\n",
    "print(\"Using vocabulary size %d.\" % vocabulary_size)\n",
    "print(\"\\nExample show: '%s'\" % shows_data[0])\n",
    "print(\"\\nExample show after Pre-processing: '%s'\" % shows_tokenized[0])"
   ]
  },
  {
   "cell_type": "code",
   "execution_count": 7,
   "metadata": {
    "collapsed": false
   },
   "outputs": [
    {
     "name": "stdout",
     "output_type": "stream",
     "text": [
      "x:\n",
      "S1 Anarchy Camel Walk Fire Up the Ganja Skippy the Wondermouse In the Midnight Hour\n",
      "[0, 274, 161, 716, 392, 364]\n",
      "\n",
      "y:\n",
      "Anarchy Camel Walk Fire Up the Ganja Skippy the Wondermouse In the Midnight Hour END\n",
      "[274, 161, 716, 392, 364, 1]\n"
     ]
    }
   ],
   "source": [
    "# Create the training data\n",
    "X_train = np.asarray([[song_to_index[w] for w in sent[:-1]] for sent in shows_tokenized])\n",
    "y_train = np.asarray([[song_to_index[w] for w in sent[1:]] for sent in shows_tokenized])\n",
    "\n",
    "# Print an training data example\n",
    "x_example, y_example = X_train[5], y_train[5]\n",
    "print (\"x:\\n%s\\n%s\" % (\" \".join([index_to_word[x] for x in x_example]), x_example))\n",
    "print (\"\\ny:\\n%s\\n%s\" % (\" \".join([index_to_word[x] for x in y_example]), y_example))"
   ]
  },
  {
   "cell_type": "code",
   "execution_count": 8,
   "metadata": {
    "collapsed": false
   },
   "outputs": [
    {
     "name": "stderr",
     "output_type": "stream",
     "text": [
      "/Library/Python/2.7/site-packages/theano/scan_module/scan.py:1017: Warning: In the strict mode, all neccessary shared variables must be passed as a part of non_sequences\n",
      "  'must be passed as a part of non_sequences', Warning)\n",
      "/Library/Python/2.7/site-packages/theano/scan_module/scan_perform_ext.py:133: RuntimeWarning: numpy.ndarray size changed, may indicate binary incompatibility\n",
      "  from scan_perform.scan_perform import *\n"
     ]
    },
    {
     "name": "stdout",
     "output_type": "stream",
     "text": [
      "Performing gradient check for parameter U with size 173400.\n",
      "Gradient check for parameter U passed.\n",
      "Performing gradient check for parameter V with size 173400.\n",
      "Gradient check for parameter V passed.\n",
      "Performing gradient check for parameter W with size 40000.\n",
      "Gradient check for parameter W passed.\n",
      "Loaded model parameters from ./data/rnn-theano-200-867-2016-09-13-19-28-06.npz. hidden_dim=200 word_dim=867\n"
     ]
    }
   ],
   "source": [
    "# Run the model with gradientcheck using the GPU\n",
    "model = RNNTheano(vocabulary_size, hidden_dim=200)\n",
    "gradient_check_theano(model, [0,1,2,3], [1,2,3,4])\n",
    "\n",
    "# Re-Create model parameteres - alreday done\n",
    "#train_with_sgd(model, X_train, y_train, nepoch=_NEPOCH, learning_rate=_LEARNING_RATE)\n",
    "\n",
    "load_model_parameters_theano('./data/rnn-theano-200-867-2016-09-13-19-28-06.npz', model)"
   ]
  },
  {
   "cell_type": "code",
   "execution_count": 19,
   "metadata": {
    "collapsed": false
   },
   "outputs": [
    {
     "name": "stdout",
     "output_type": "stream",
     "text": [
      "show: 1\n",
      "S1, Take the 'A' Train, Dog Faced Boy, You Enjoy Myself, The Squirming Coil, Art Jam, Big Pimpin', Meatstick, Golgi Apparatus, Love You, Sleeping Monkey, The Fog That Surrounds, S3, Tweezer Reprise, ENCORE, Run Like an Antelope, ENCORE, Funky Bitch, Foreplay/Long Time, Feel the Heat, The Squirming Coil, Caravan, Run Like an Antelope, ENCORE, Tubthumping, Frankenstein, END\n",
      "show: 2\n",
      "S1, The Sloth, You Enjoy Myself, First Tube, My Soul, Runaway Jim, Dave's Energy Guide, Self, Rocky Top, Alumni Blues, Sweet Adeline, American Woman, The Oh Kee Pa Ceremony, Amazing Grace, Timber, Watcher of the Skies, Fluffhead, ENCORE, Highway to Hell, Cavern, Sweet Adeline, David Bowie, Cavern, Mean Mr. Mustard, ENCORE, Golgi Apparatus, END\n",
      "show: 3\n",
      "S1, Jam, Divided Sky, David Bowie, You Shook Me All Night Long, Nine Years (and One Dark Day), Bittersweet Motel, Harry Hood, Contact, Golgi Apparatus, Bathtub Gin, I Gave My Love a Cherry, Amazing Grace, Reba, Bittersweet Motel, Jam, Waste, Possum, Timber (Jerry), ENCORE, Golgi Apparatus, Rocky Top, END\n",
      "show: 4\n",
      "S1, Brain Damage, I Didn't Know, Bertha, Llama, Split Open and Melt, Eliza, Rift, Llama, Harry Hood, Slipknot!, In the Aeroplane Over the Sea, Highway to Hell, Reba, Wilson, Demand, Character Zero, ENCORE, Gloria, Reba, Fire, END\n",
      "show: 5\n",
      "S1, The Star Spangled Banner, Friday, Train Song, Possum, Terrapin Station, Amazing Grace, Carolina, Funky Bitch, Sweet Adeline, Bill Bailey, Golgi Apparatus, Loving Cup, When the Circus Comes, Sailin' Shoes, Bouncing Around the Room, Runaway Jim, You Enjoy Myself, Alumni Blues, Run Like an Antelope, ENCORE, Loving Cup, Tweezer Reprise, END\n",
      "show: 6\n",
      "S1, Weekapaug Groove, The Moma Dance, Hold Your Head Up, Tweezer, I Am Hydrogen, Possum, Golgi Apparatus, Cavern, Cavern, Amazing Grace, Heavy Things, Weekapaug Groove, Sweet Adeline, Buried Alive, Run Like an Antelope, ENCORE, You Enjoy Myself, Stash, S4, Nellie Kane, Life on Mars?, ENCORE, Waste, Rocky Top, END\n",
      "show: 7\n",
      "S1, Tweezer Reprise, Mike's Song, Party Time, The Asse Festival, Maze, Magilla, Sweet Adeline, Chalk Dust Torture, Harry Hood, S2, I Been to Georgia on a Fast Train, S4, Messin' with The Kid, Sand, Run Like an Antelope, ENCORE, Brian and Robert, Tweezer Reprise, ENCORE, Contact, END\n",
      "show: 8\n",
      "S1, The Sloth, Dog Faced Boy, Mike's Song, Ginseng Sullivan, Maze, Sweet Adeline, Rocky Top, Runaway Jim, Theme From the Bottom, Nowhere Fast, A Day in the Life, La Grange, The Old Home Place, David Bowie, Free Bird, My Friend My Friend, Jam, Slave to the Traffic Light, ENCORE, Contact, Tweezer Reprise, END\n",
      "show: 9\n",
      "S1, Messin' with The Kid, Chalk Dust Torture, Jam, If I Only Had a Brain, Uncle Pen, Highway to Hell, Free Bird, Whipping Post, Middle of the Road, Cool It Down, Tweezer Reprise, Tweezer Reprise, Cavern, Contact, Rocky Top, Sanity, Possum, ENCORE, Wilson, Amazing Grace, Colonel Forbin's Ascent, Carolina, Possum, ENCORE, Contact, END\n",
      "show: 10\n",
      "S1, Flat Fee, Mike's Song, I Am Hydrogen, Runaway Jim, David Bowie, The Asse Festival, While My Guitar Gently Weeps, Amazing Grace, You Enjoy Myself, I Gave My Love a Cherry, Taste, Reba, The Sloth, Golgi Apparatus, The Last Step, My Funny Valentine, Run Like an Antelope, ENCORE, Also Sprach Zarathustra, It's Ice, Something, ENCORE, Carolina, END\n"
     ]
    }
   ],
   "source": [
    "num_sentences = 10\n",
    "senten_min_length = 22\n",
    "string = 'show: '\n",
    "new_sentences = []\n",
    "for i in range(num_sentences):\n",
    "    print(string + str(i+1))\n",
    "    sent = []\n",
    "    # We want long sentences, not sentences with one or two words\n",
    "    while len(sent) < senten_min_length:\n",
    "        sent = generate_setlist(model)\n",
    "    new_sentences.append(sent)\n",
    "    print (\", \".join(sent))"
   ]
  },
  {
   "cell_type": "markdown",
   "metadata": {
    "collapsed": false
   },
   "source": [
    "#### Similarity by Cosine"
   ]
  },
  {
   "cell_type": "code",
   "execution_count": 20,
   "metadata": {
    "collapsed": false
   },
   "outputs": [
    {
     "name": "stdout",
     "output_type": "stream",
     "text": [
      "similarity average by cosine similarity:0.504649961185\n"
     ]
    },
    {
     "data": {
      "image/png": "[encoded data removed]",
      "text/plain": [
       "<matplotlib.figure.Figure at 0x119a66790>"
      ]
     },
     "metadata": {},
     "output_type": "display_data"
    }
   ],
   "source": [
    "WORD = re.compile(r\"[\\number|\\w|'|?|!|.| |/|:|-|(|)]+\")\n",
    "plot_point = []\n",
    "temp = 0;\n",
    "for i in range(len(new_sentences)):\n",
    "    text1 = ','.join(str(e) for e in new_sentences[i])\n",
    "    for j in range(len(shows_tokenized)):\n",
    "        text2 = ','.join(str(e) for e in shows_tokenized[j])\n",
    "        vector1 = text_to_vector(text1)\n",
    "        vector2 = text_to_vector(text2)\n",
    "        if temp < get_cosine(vector1, vector2):\n",
    "            temp = get_cosine(vector1, vector2)\n",
    "    plot_point.append(temp)\n",
    "    \n",
    "print(\"similarity average by cosine similarity:\" + str(np.mean(plot_point)))\n",
    "plt.plot(plot_point)\n",
    "plt.ylabel('Cosine similarity')\n",
    "plt.show()"
   ]
  },
  {
   "cell_type": "markdown",
   "metadata": {
    "collapsed": true
   },
   "source": [
    "#### Similarity By SET"
   ]
  },
  {
   "cell_type": "code",
   "execution_count": 21,
   "metadata": {
    "collapsed": false
   },
   "outputs": [
    {
     "name": "stdout",
     "output_type": "stream",
     "text": [
      "similarity average by SET similarity:0.286054766734\n"
     ]
    },
    {
     "data": {
      "image/png": "[encoded data removed]",
      "text/plain": [
       "<matplotlib.figure.Figure at 0x118c1c910>"
      ]
     },
     "metadata": {},
     "output_type": "display_data"
    }
   ],
   "source": [
    "plot_point2 = []\n",
    "temp = 0;\n",
    "for i in range(len(new_sentences)):\n",
    "    text1 = ','.join(str(e) for e in new_sentences[i])\n",
    "    set_sentence1 = set(text1.split())\n",
    "    for j in range(len(shows_tokenized)):\n",
    "        text2 = ','.join(str(e) for e in shows_tokenized[j])\n",
    "        set_sentence2 = set(text2.split())\n",
    "        similarity = (1.0 + len(set_sentence1.intersection(set_sentence2))) / (1.0 + max(len(set_sentence1), len(set_sentence2)))\n",
    "        if temp < similarity:\n",
    "            temp = similarity\n",
    "    plot_point2.append(temp)\n",
    "\n",
    "print(\"similarity average by SET similarity:\" + str(np.mean(plot_point2)))\n",
    "plt.plot(plot_point2)\n",
    "plt.ylabel('set similarity')\n",
    "plt.show()"
   ]
  },
  {
   "cell_type": "markdown",
   "metadata": {
    "collapsed": true
   },
   "source": [
    "### Conclusions\n",
    "\n",
    "- As for a model that was running on a local computer results are satisfying. Need to be considered that the vocabulary is a discrete group of words (songs in our case). As our data-set wasn't huge we could fairly go crazy with parameters and each iteration go through all the list 300 times and have very big hidden layer (n=200)\n",
    ">     _NEPOCH = int(os.environ.get('NEPOCH', '300'))\n",
    "       model = RNNTheano(vocabulary_size, hidden_dim=200)\n",
    "\n",
    "- Procesing time to build the model on Mac Mini 2.4Ghz 16GB RAM was approx. 95 minutes. This had to be done once as all parameters was saved to .npz file. I'm assure that moving to AWS machine would get us higher similarity average.\n",
    "\n",
    "- Some setlist we've got are not far from reality. Few fun facts\n",
    "    - Tweezer Reprise was predicted very well. Out of 10 generated shows it was predicted 4 times in it's natural poisiton, right before encore or during encore.\n",
    "    - We had excpectation that the model would realize the real construction of a show. As out of 1776 shows 1381 had at least two sets. A proper Second generated only once in a proper position. \n",
    "    - On the other hand, model learnd **very well** that ENCORE should be placed few words before end of a sentence, but it was still placed in strange positions. \n",
    "    - Most generated shows contains at least one obscured song which played by the band only during the 80's or early 90's and still it's in the same list with new songs the band is playing.\n",
    "    - Songs repeating in a show is not a rare thing. Sometimes the band plays sandwiches song. Example of a real show (27/7/2014 @ Columbia, MD):\n",
    "    > S1,Fee,The Curtain With,46 Days,555,My Sweet One,Sand,Bouncing Around the Room,Saw It Again,Fuego,You Enjoy Myself,S2,Wilson,Tweezer,Back on the Train,Tweezer,Back on the Train,Tweezer,Waiting All Night,Free,Tweezer,Simple,Tweezer,Free,Catapult,Slave to the Traffic Light,Down with Disease,NICU,Jam,Hold Your Head Up,Jennifer Dances,Hold Your Head Up,I Been Around,ENCORE,Boogie On Reggae Woman,Tweezer Reprise,END\n",
    "\n",
    "- Project was so much fun, We've enjoyed doing the while thing top to bottom. Going through old shows and find out about songs you never heard of is the biggest bonus of the while thing. \n",
    "\n",
    "    ![Phish @ San Francisco, CA. Taken By Ido July 2016](phish.png)\n",
    "                              Phish @ San Francisco, CA. Taken By Ido July 2016"
   ]
  }
 ],
 "metadata": {
  "kernelspec": {
   "display_name": "Python 2",
   "language": "python",
   "name": "python2"
  },
  "language_info": {
   "codemirror_mode": {
    "name": "ipython",
    "version": 2
   },
   "file_extension": ".py",
   "mimetype": "text/x-python",
   "name": "python",
   "nbconvert_exporter": "python",
   "pygments_lexer": "ipython2",
   "version": "2.7.10"
  }
 },
 "nbformat": 4,
 "nbformat_minor": 0
}
